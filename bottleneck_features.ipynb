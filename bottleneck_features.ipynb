{
 "cells": [
  {
   "cell_type": "markdown",
   "metadata": {
    "collapsed": true
   },
   "source": [
    "# Linear classifier on bottleneck features from pretrained model."
   ]
  },
  {
   "cell_type": "code",
   "execution_count": 33,
   "metadata": {
    "collapsed": true
   },
   "outputs": [],
   "source": [
    "import os\n",
    "import shutil\n",
    "import pandas as pd\n",
    "import numpy as np\n",
    "from PIL import Image"
   ]
  },
  {
   "cell_type": "code",
   "execution_count": 34,
   "metadata": {
    "collapsed": false
   },
   "outputs": [],
   "source": [
    "from keras.applications.inception_v3 import InceptionV3, preprocess_input\n",
    "from keras.preprocessing import image\n",
    "from keras.models import Model\n",
    "from keras.layers import Dense, GlobalAveragePooling2D\n",
    "from keras import backend as K\n",
    "from sklearn.metrics import accuracy_score, confusion_matrix\n",
    "from sklearn.linear_model import LogisticRegression\n",
    "from sklearn.metrics import accuracy_score, confusion_matrix, f1_score\n",
    "from matplotlib import pyplot\n",
    "import seaborn as sns"
   ]
  },
  {
   "cell_type": "code",
   "execution_count": 3,
   "metadata": {
    "collapsed": true
   },
   "outputs": [],
   "source": [
    "# Specifying train, validation and test set\n",
    "path = \"/home/ubuntu/nbs/data/seedlings\"\n",
    "train_path = os.path.join(path, \"train\")\n",
    "valid_path = os.path.join(path, \"valid\")\n",
    "test_path = os.path.join(path, \"test\")\n",
    "preview_path = os.path.join(path, \"preview\")\n",
    "checkpoint_path = os.path.join(path, \"best_weights.hdf5\")"
   ]
  },
  {
   "cell_type": "markdown",
   "metadata": {},
   "source": [
    "### Data generator"
   ]
  },
  {
   "cell_type": "code",
   "execution_count": 13,
   "metadata": {
    "collapsed": true
   },
   "outputs": [],
   "source": [
    "# Get batches from the dirname directory, perform augmentation (rotation, shift, flip, zoom) \n",
    "# and return batch genarator object.\n",
    "def get_batches(dirname, shuffle=True, batch_size=4, class_mode='categorical',\n",
    "                target_size=(224,224)):\n",
    "    gen = image.ImageDataGenerator(preprocessing_function=preprocess_input)\n",
    "    flow = gen.flow_from_directory(\n",
    "                        dirname, \n",
    "                        shuffle=False,\n",
    "                        batch_size=batch_size, \n",
    "                        class_mode='categorical',\n",
    "                        target_size=target_size,\n",
    "                        )\n",
    "\n",
    "    return flow \n"
   ]
  },
  {
   "cell_type": "code",
   "execution_count": 16,
   "metadata": {
    "collapsed": false
   },
   "outputs": [
    {
     "name": "stdout",
     "output_type": "stream",
     "text": [
      "Found 3070 images belonging to 12 classes.\n",
      "Found 840 images belonging to 12 classes.\n",
      "Cleavers\n",
      "Maize\n",
      "Small-flowered Cranesbill\n",
      "Loose Silky-bent\n",
      "Common Chickweed\n",
      "Common wheat\n",
      "Black-grass\n",
      "Sugar beet\n",
      "Charlock\n",
      "Scentless Mayweed\n",
      "Shepherds Purse\n",
      "Fat Hen\n"
     ]
    }
   ],
   "source": [
    "batch_size = 64\n",
    "train_batches_gen = get_batches(train_path, batch_size=batch_size)\n",
    "valid_batches_gen = get_batches(valid_path, batch_size=batch_size)\n",
    "for cl in train_batches_gen.class_indices.keys():\n",
    "    print(cl)"
   ]
  },
  {
   "cell_type": "markdown",
   "metadata": {},
   "source": [
    "###  Extracting features from the last activation maps before the fully-connected layer of pre-trained InceptionV3."
   ]
  },
  {
   "cell_type": "code",
   "execution_count": 20,
   "metadata": {
    "collapsed": false
   },
   "outputs": [],
   "source": [
    "# Using InceptionV3 model as feature extractor.\n",
    "model = InceptionV3(weights='imagenet', include_top=False, pooling='avg')\n",
    "\n",
    "train_features = model.predict_generator(train_batches_gen)#, steps=5000/batch_size)\n",
    "valid_features = model.predict_generator(valid_batches_gen)#, steps=1200/batch_size)\n",
    "# save the output as a Numpy array\n",
    "np.save(open('bottleneck_features_train.npy', 'w'), train_features)"
   ]
  },
  {
   "cell_type": "code",
   "execution_count": 21,
   "metadata": {
    "collapsed": false
   },
   "outputs": [
    {
     "name": "stdout",
     "output_type": "stream",
     "text": [
      "Inception train bottleneck features shape: (3070, 2048) size: 6,287,360\n",
      "Inception valid bottleneck features shape: (840, 2048) size: 1,720,320\n"
     ]
    }
   ],
   "source": [
    "print('Inception train bottleneck features shape: {} size: {:,}'.format(train_features.shape, train_features.size))\n",
    "print('Inception valid bottleneck features shape: {} size: {:,}'.format(valid_features.shape, valid_features.size))\n"
   ]
  },
  {
   "cell_type": "markdown",
   "metadata": {},
   "source": [
    "### Logistic regression on bottleneck features."
   ]
  },
  {
   "cell_type": "code",
   "execution_count": 22,
   "metadata": {
    "collapsed": false
   },
   "outputs": [
    {
     "data": {
      "text/plain": [
       "LogisticRegression(C=1.0, class_weight=None, dual=False, fit_intercept=True,\n",
       "          intercept_scaling=1, max_iter=100, multi_class='multinomial',\n",
       "          n_jobs=1, penalty='l2', random_state=None, solver='lbfgs',\n",
       "          tol=0.0001, verbose=0, warm_start=False)"
      ]
     },
     "execution_count": 22,
     "metadata": {},
     "output_type": "execute_result"
    }
   ],
   "source": [
    "logreg = LogisticRegression(multi_class='multinomial', solver='lbfgs')\n",
    "logreg.fit(train_features, train_batches_gen.classes)"
   ]
  },
  {
   "cell_type": "code",
   "execution_count": 24,
   "metadata": {
    "collapsed": false
   },
   "outputs": [],
   "source": [
    "valid_preds = logreg.predict(valid_features)"
   ]
  },
  {
   "cell_type": "code",
   "execution_count": 36,
   "metadata": {
    "collapsed": false
   },
   "outputs": [
    {
     "name": "stdout",
     "output_type": "stream",
     "text": [
      "Validation Accuracy 0.758333333333\n"
     ]
    }
   ],
   "source": [
    "print('Validation Accuracy {}'.format(accuracy_score(valid_batches_gen.classes, valid_preds)))\n"
   ]
  },
  {
   "cell_type": "markdown",
   "metadata": {
    "collapsed": true
   },
   "source": [
    "### Confusion matrix\n"
   ]
  },
  {
   "cell_type": "code",
   "execution_count": 31,
   "metadata": {
    "collapsed": false
   },
   "outputs": [
    {
     "data": {
      "image/png": "[encoded data removed]",
      "text/plain": [
       "<matplotlib.figure.Figure at 0x7f62098f3fd0>"
      ]
     },
     "metadata": {},
     "output_type": "display_data"
    }
   ],
   "source": [
    "cnf_matrix = confusion_matrix(valid_batches_gen.classes, valid_preds)\n",
    "fig, ax = pyplot.subplots(1)\n",
    "ax = sns.heatmap(cnf_matrix, ax=ax, cmap=pyplot.cm.Blues, annot=True)\n",
    "categories = [cat[:3] for cat in train_batches_gen.class_indices.keys()]\n",
    "ax.set_xticklabels(categories)\n",
    "ax.set_yticklabels(categories)\n",
    "pyplot.title('Confusion Matrix')\n",
    "pyplot.ylabel('True class')\n",
    "pyplot.xlabel('Predicted class')\n",
    "pyplot.show();"
   ]
  },
  {
   "cell_type": "code",
   "execution_count": null,
   "metadata": {
    "collapsed": true
   },
   "outputs": [],
   "source": []
  }
 ],
 "metadata": {
  "anaconda-cloud": {},
  "kernelspec": {
   "display_name": "Python [conda root]",
   "language": "python",
   "name": "conda-root-py"
  },
  "language_info": {
   "codemirror_mode": {
    "name": "ipython",
    "version": 2
   },
   "file_extension": ".py",
   "mimetype": "text/x-python",
   "name": "python",
   "nbconvert_exporter": "python",
   "pygments_lexer": "ipython2",
   "version": "2.7.12"
  }
 },
 "nbformat": 4,
 "nbformat_minor": 1
}
